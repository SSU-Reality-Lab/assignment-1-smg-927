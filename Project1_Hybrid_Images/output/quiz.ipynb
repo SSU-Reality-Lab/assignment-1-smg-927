{
 "cells": [
  {
   "cell_type": "markdown",
   "id": "1b266b16",
   "metadata": {},
   "source": [
    "### 왜 사진에서 세 점을 찍어야 하는가?\n",
    "\n",
    "한 사진은 low-pass필터를 거쳐 사진을 blurr 처리하고, 다른 사진은 high-pass필터를 거쳐 sharpen처리한다. 이후 사진을 겹치는데, 서로 위치가 맞지 않으면 얼굴이 합쳐지는 느낌이 나지 않을 것이다. 따라서 각 사진의 두 눈과 코에 세개의 점을 찍어서 affintransformation을 통해 사진의 위치를 조정하여 겹치는 것이다.\n",
    "\n",
    "점을 반드시 세 개 이상 찍어야 하는 이유는 affine transformation 에서 2*3행렬을 사용하기 때문이다. \n",
    "수학적으로 하나의 평면을 정의하려면 세 개의 점이 필요하고 affine transformation은 이 평면을 다른 평면으로 옮기는 방식으로 정의되기 때문에 \n",
    "점은 반드시 세 개가 필요하다."
   ]
  }
 ],
 "metadata": {
  "kernelspec": {
   "display_name": "ssu_knn_venv",
   "language": "python",
   "name": "ssu_knn_venv"
  },
  "language_info": {
   "name": "python",
   "version": "3.12.10"
  }
 },
 "nbformat": 4,
 "nbformat_minor": 5
}
